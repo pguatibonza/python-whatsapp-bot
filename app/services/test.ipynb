{
 "cells": [
  {
   "cell_type": "code",
   "execution_count": 1,
   "metadata": {},
   "outputs": [],
   "source": [
    "from langchain_openai import ChatOpenAI, OpenAIEmbeddings\n",
    "from langchain_core.prompts import ChatPromptTemplate, MessagesPlaceholder\n",
    "from langchain_core.runnables.history import RunnableWithMessageHistory\n",
    "from langchain_core.chat_history import BaseChatMessageHistory\n",
    "from langchain_community.chat_message_histories import ChatMessageHistory\n",
    "import psycopg2\n",
    "from langchain_community.document_loaders import UnstructuredPDFLoader\n",
    "from langchain_community.document_loaders import PDFMinerLoader\n",
    "from langchain_text_splitters import RecursiveCharacterTextSplitter\n",
    "from langchain_community.vectorstores import FAISS\n",
    "from dotenv import load_dotenv\n",
    "from langchain_community.tools.tavily_search import TavilySearchResults\n",
    "from langchain.agents import AgentExecutor, create_openai_tools_agent\n",
    "from langchain_community.chat_message_histories import RedisChatMessageHistory"
   ]
  },
  {
   "cell_type": "code",
   "execution_count": 2,
   "metadata": {},
   "outputs": [],
   "source": [
    "\n",
    "import logging\n",
    "import os\n",
    "import tools_restaurant "
   ]
  },
  {
   "cell_type": "code",
   "execution_count": 3,
   "metadata": {},
   "outputs": [],
   "source": [
    "load_dotenv()\n",
    "DB_CONNECTION = os.getenv(\"DB_CONNECTION\")\n",
    "OPENAI_API_KEY = os.getenv(\"OPENAI_API_KEY\")\n",
    "REDIS_URL=os.getenv(\"REDIS_URL\")\n",
    "chat = ChatOpenAI(model=\"gpt-4o\", temperature=0)\n",
    "tools=tools_restaurant.TOOLS"
   ]
  },
  {
   "cell_type": "code",
   "execution_count": 4,
   "metadata": {},
   "outputs": [],
   "source": [
    "SYSTEM_TEMPLATE = \"\"\"\n",
    "Eres un chatbot de asistencia al cliente para el restaurante ROOFTOP magdalena\n",
    "\n",
    "Tendras 2 funciones principales, una para validar los horarios disponibles dada una fecha y una cantidad de personas, y otra para hacer la reserva\n",
    "de una mesa. \n",
    "\n",
    "1. Obtener los horarios disponibles para hacer reservas dada una fecha y una cantidad de personas, y opcionalmente un area(solo si el usuario pregunta)\n",
    "2. Hacer una reserva. Cuando el usuario quiera hacer una reserva vas a seguir los siguientes pasos :\n",
    "    a.  Le preguntas la fecha y la cantidad de personas. Tomas la fecha y la conviertes al formato YYYY-MM-DD. Si el usuario no te da el año, asume que es 2024.\n",
    "    b. Le preguntas si tiene preferencia por alguna zona (main o terraza)\n",
    "    b. Validas si esa fecha esta disponible y le muestras los horarios.\n",
    "    c.  Preguntale por sus datos personales, como el nombre, el telefono y el email. \n",
    "        Asegurate que el usuario escriba su nombre y apellido\n",
    "        Valida que el numero telefonico sea correcto, y agrega el sufijo \"+57\" al telefono del usuario si es necesario,\n",
    "        Asegurate que la dirección de correo electronico sea valida\n",
    "    d. Preguntarle si tiene algun comentario con respecto a la reserva para hacercelo saber al restaurante\n",
    "    e. Vuelve a mostrarle los datos para confirmar la reserva, no la crees hasta que el usuario confirme.No le puedes dar el id de la reserva\n",
    "\n",
    "La otra de tus funciones sera responder cualquier duda que tenga el cliente \n",
    "respecto al menu del restaurante. Para ello podras usar el contexto que está abajo.\n",
    "<context>\n",
    "{context}\n",
    "</context>\n",
    "\"\"\""
   ]
  },
  {
   "cell_type": "code",
   "execution_count": 5,
   "metadata": {},
   "outputs": [],
   "source": [
    "def get_session_history(session_id: str) -> RedisChatMessageHistory:\n",
    "    return RedisChatMessageHistory(session_id, url=REDIS_URL)"
   ]
  },
  {
   "cell_type": "code",
   "execution_count": 6,
   "metadata": {},
   "outputs": [],
   "source": [
    "def create_chain_agent():\n",
    "\n",
    "    prompt = ChatPromptTemplate.from_messages(\n",
    "        [\n",
    "            (\n",
    "                \"system\",\n",
    "                SYSTEM_TEMPLATE,\n",
    "            ),\n",
    "            MessagesPlaceholder(variable_name=\"chat_history\"),\n",
    "            (\"human\", \"{input}\"),\n",
    "            MessagesPlaceholder(variable_name=\"agent_scratchpad\"),\n",
    "        ]\n",
    "    )\n",
    "    agent= create_openai_tools_agent(chat,tools,prompt)\n",
    "    agent_executor=AgentExecutor(agent=agent,tools=tools,verbose=True)\n",
    "    #chain=create_stuff_documents_chain(chat,prompt)\n",
    "    return agent_executor"
   ]
  },
  {
   "cell_type": "code",
   "execution_count": 7,
   "metadata": {},
   "outputs": [],
   "source": [
    "def get_chat(chain):\n",
    "    \"\"\" Configura la cadena con historial de mensajes. \"\"\"\n",
    "    return RunnableWithMessageHistory(\n",
    "        chain,\n",
    "        get_session_history,\n",
    "        input_messages_key=\"input\",\n",
    "        history_messages_key=\"chat_history\",\n",
    "    )"
   ]
  },
  {
   "cell_type": "code",
   "execution_count": 8,
   "metadata": {},
   "outputs": [],
   "source": [
    "def filter_messages(messages,k=10):\n",
    "    if len(messages)>k:\n",
    "        return messages[-k:]\n",
    "    return messages\n",
    "    "
   ]
  },
  {
   "cell_type": "code",
   "execution_count": 9,
   "metadata": {},
   "outputs": [],
   "source": [
    "from langchain_core.runnables import RunnablePassthrough\n",
    "\n",
    "#Create chain\n",
    "agent_executor = create_chain_agent()\n",
    "\n"
   ]
  },
  {
   "cell_type": "code",
   "execution_count": 10,
   "metadata": {},
   "outputs": [
    {
     "data": {
      "text/plain": [
       "AgentExecutor(verbose=True, agent=RunnableMultiActionAgent(runnable=RunnableAssign(mapper={\n",
       "  agent_scratchpad: RunnableLambda(lambda x: format_to_openai_tool_messages(x['intermediate_steps']))\n",
       "})\n",
       "| ChatPromptTemplate(input_variables=['agent_scratchpad', 'chat_history', 'context', 'input'], input_types={'chat_history': typing.List[typing.Union[langchain_core.messages.ai.AIMessage, langchain_core.messages.human.HumanMessage, langchain_core.messages.chat.ChatMessage, langchain_core.messages.system.SystemMessage, langchain_core.messages.function.FunctionMessage, langchain_core.messages.tool.ToolMessage]], 'agent_scratchpad': typing.List[typing.Union[langchain_core.messages.ai.AIMessage, langchain_core.messages.human.HumanMessage, langchain_core.messages.chat.ChatMessage, langchain_core.messages.system.SystemMessage, langchain_core.messages.function.FunctionMessage, langchain_core.messages.tool.ToolMessage]]}, messages=[SystemMessagePromptTemplate(prompt=PromptTemplate(input_variables=['context'], template='\\nEres un chatbot de asistencia al cliente para el restaurante ROOFTOP magdalena\\n\\nTendras 2 funciones principales, una para validar los horarios disponibles dada una fecha y una cantidad de personas, y otra para hacer la reserva\\nde una mesa. \\n\\n1. Obtener los horarios disponibles para hacer reservas dada una fecha y una cantidad de personas, y opcionalmente un area(solo si el usuario pregunta)\\n2. Hacer una reserva. Cuando el usuario quiera hacer una reserva vas a seguir los siguientes pasos :\\n    a.  Le preguntas la fecha y la cantidad de personas. Tomas la fecha y la conviertes al formato YYYY-MM-DD. Si el usuario no te da el año, asume que es 2024.\\n    b. Le preguntas si tiene preferencia por alguna zona (main o terraza)\\n    b. Validas si esa fecha esta disponible y le muestras los horarios.\\n    c.  Preguntale por sus datos personales, como el nombre, el telefono y el email. \\n        Asegurate que el usuario escriba su nombre y apellido\\n        Valida que el numero telefonico sea correcto, y agrega el sufijo \"+57\" al telefono del usuario si es necesario,\\n        Asegurate que la dirección de correo electronico sea valida\\n    d. Preguntarle si tiene algun comentario con respecto a la reserva para hacercelo saber al restaurante\\n    e. Vuelve a mostrarle los datos para confirmar la reserva, no la crees hasta que el usuario confirme.No le puedes dar el id de la reserva\\n\\nLa otra de tus funciones sera responder cualquier duda que tenga el cliente \\nrespecto al menu del restaurante. Para ello podras usar el contexto que está abajo.\\n<context>\\n{context}\\n</context>\\n')), MessagesPlaceholder(variable_name='chat_history'), HumanMessagePromptTemplate(prompt=PromptTemplate(input_variables=['input'], template='{input}')), MessagesPlaceholder(variable_name='agent_scratchpad')])\n",
       "| RunnableBinding(bound=ChatOpenAI(client=<openai.resources.chat.completions.Completions object at 0x000002552F981FA0>, async_client=<openai.resources.chat.completions.AsyncCompletions object at 0x000002552F982E10>, model_name='gpt-4o', temperature=0.0, openai_api_key=SecretStr('**********'), openai_proxy=''), kwargs={'tools': [{'type': 'function', 'function': {'name': 'create_booking', 'description': \"create_booking(date: str, time: str, people: int, phone: str, email: str, name: str, area_name='main', comment='', duration=120, tables=1) - Crea una nueva reserva\", 'parameters': {'type': 'object', 'properties': {'date': {'type': 'string'}, 'time': {'type': 'string'}, 'people': {'type': 'integer'}, 'phone': {'type': 'string'}, 'email': {'type': 'string'}, 'name': {'type': 'string'}, 'area_name': {'default': 'main'}, 'comment': {'default': ''}, 'duration': {'default': 120}, 'tables': {'default': 1}}, 'required': ['date', 'time', 'people', 'phone', 'email', 'name']}}}, {'type': 'function', 'function': {'name': 'available_times_at_date', 'description': 'available_times_at_date(date: str, people=4, area=None) - Retorna los horarios disponibles para hacer una reserva dada una fecha y un numero de personas', 'parameters': {'type': 'object', 'properties': {'date': {'type': 'string'}, 'people': {'default': 4}, 'area': {}}, 'required': ['date']}}}]})\n",
       "| OpenAIToolsAgentOutputParser(), input_keys_arg=[], return_keys_arg=[], stream_runnable=True), tools=[StructuredTool(name='create_booking', description=\"create_booking(date: str, time: str, people: int, phone: str, email: str, name: str, area_name='main', comment='', duration=120, tables=1) - Crea una nueva reserva\", args_schema=<class 'pydantic.v1.main.create_bookingSchema'>, handle_tool_error=True, func=<function create_booking at 0x000002552F984220>), StructuredTool(name='available_times_at_date', description='available_times_at_date(date: str, people=4, area=None) - Retorna los horarios disponibles para hacer una reserva dada una fecha y un numero de personas', args_schema=<class 'pydantic.v1.main.available_times_at_dateSchema'>, handle_tool_error=True, func=<function available_times_at_date at 0x000002552F984180>)])"
      ]
     },
     "execution_count": 10,
     "metadata": {},
     "output_type": "execute_result"
    }
   ],
   "source": [
    "agent_executor"
   ]
  },
  {
   "cell_type": "code",
   "execution_count": 11,
   "metadata": {},
   "outputs": [],
   "source": [
    "agent_executor_with_message_filter=(RunnablePassthrough.assign(chat_history=lambda x :filter_messages(x[\"chat_history\"]))\n",
    " | agent_executor\n",
    ")\n",
    "\n",
    "#Get the session history\n",
    "conversation_chain=get_chat(agent_executor_with_message_filter)"
   ]
  },
  {
   "cell_type": "code",
   "execution_count": 53,
   "metadata": {},
   "outputs": [],
   "source": [
    "message_body=\"\"\"\n",
    "SI\"\"\"\n",
    "wa_id=\"3227077343\""
   ]
  },
  {
   "cell_type": "code",
   "execution_count": 54,
   "metadata": {},
   "outputs": [
    {
     "name": "stderr",
     "output_type": "stream",
     "text": [
      "Parent run 68360713-4f66-43a8-b8d0-d1ae49e95d36 not found for run 0784afa8-46b2-4482-aa29-93bbce905104. Treating as a root run.\n"
     ]
    },
    {
     "name": "stdout",
     "output_type": "stream",
     "text": [
      "\n",
      "\n",
      "\u001b[1m> Entering new AgentExecutor chain...\u001b[0m\n",
      "\u001b[32;1m\u001b[1;3m\n",
      "Invoking: `create_booking` with `{'date': '2024-05-29', 'time': '20:00', 'people': 4, 'phone': '+57 3227077343', 'email': 'pabloaguati@gmail.com', 'name': 'Pablo Guatibonza', 'area_name': 'main'}`\n",
      "\n",
      "\n",
      "\u001b[0m\u001b[31;1m\u001b[1;3mReserva fallida debido a  b'area cNifDZ9rCHRY8gkiD [bookings.insert: no suitable table in area found]'\u001b[0m\u001b[32;1m\u001b[1;3mParece que no hay una mesa disponible en el área \"main\" para 4 personas a las 20:00 el 29 de mayo de 2024. \n",
      "\n",
      "¿Te gustaría intentar en otra área, como la terraza, o prefieres otro horario?\u001b[0m\n",
      "\n",
      "\u001b[1m> Finished chain.\u001b[0m\n"
     ]
    },
    {
     "data": {
      "text/plain": [
       "{'input': '\\nSI',\n",
       " 'context': '',\n",
       " 'chat_history': [AIMessage(content='Perfecto, el 29 de mayo de 2024 está completamente disponible para reservas. Nuestro horario de apertura es de 12:00 PM a 9:00 PM.\\n\\nPor favor, indícame la hora en la que te gustaría hacer la reserva para 7 personas.'),\n",
       "  HumanMessage(content='\\na la misma hora, mismos datos'),\n",
       "  AIMessage(content='¡Tu reserva ha sido creada exitosamente, Pablo! Aquí están los detalles de tu nueva reserva:\\n\\n- **Fecha:** 29 de mayo de 2024\\n- **Hora:** 20:00\\n- **Personas:** 7\\n- **Zona:** Main\\n- **Nombre:** Pablo Guatibonza\\n- **Teléfono:** +57 3227077343\\n- **Correo electrónico:** pabloaguati@gmail.com\\n\\nSi necesitas hacer algún cambio o tienes alguna otra consulta, no dudes en decírmelo. ¡Gracias por elegir ROOFTOP Magdalena!'),\n",
       "  HumanMessage(content='\\nahora crea otra, pero para 4 personas'),\n",
       "  AIMessage(content='Vamos a proceder con la creación de la reserva para 4 personas. \\n\\n¿Te gustaría mantener la misma fecha y hora, es decir, el 29 de mayo de 2024 a las 20:00, y los mismos datos personales?')],\n",
       " 'output': 'Parece que no hay una mesa disponible en el área \"main\" para 4 personas a las 20:00 el 29 de mayo de 2024. \\n\\n¿Te gustaría intentar en otra área, como la terraza, o prefieres otro horario?'}"
      ]
     },
     "execution_count": 54,
     "metadata": {},
     "output_type": "execute_result"
    }
   ],
   "source": [
    "\n",
    "conversation_chain.invoke({\"input\": message_body,\"context\":\"\",\n",
    "                            },\n",
    "                            {\"configurable\":{\"session_id\":wa_id}})"
   ]
  },
  {
   "cell_type": "markdown",
   "metadata": {},
   "source": [
    "    "
   ]
  },
  {
   "cell_type": "markdown",
   "metadata": {},
   "source": []
  }
 ],
 "metadata": {
  "kernelspec": {
   "display_name": "Python 3.12.3 ('chatbot')",
   "language": "python",
   "name": "python3"
  },
  "language_info": {
   "codemirror_mode": {
    "name": "ipython",
    "version": 3
   },
   "file_extension": ".py",
   "mimetype": "text/x-python",
   "name": "python",
   "nbconvert_exporter": "python",
   "pygments_lexer": "ipython3",
   "version": "3.12.3"
  },
  "orig_nbformat": 4,
  "vscode": {
   "interpreter": {
    "hash": "8b9d66280c6aa0c9920c23978bcee7765451a6748ab211777099794f360f1c01"
   }
  }
 },
 "nbformat": 4,
 "nbformat_minor": 2
}
