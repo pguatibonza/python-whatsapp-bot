{
 "cells": [
  {
   "cell_type": "code",
   "execution_count": 1,
   "metadata": {},
   "outputs": [],
   "source": [
    "from langchain_openai import ChatOpenAI, OpenAIEmbeddings\n",
    "from langchain_core.prompts import ChatPromptTemplate, MessagesPlaceholder\n",
    "from langchain_core.runnables.history import RunnableWithMessageHistory\n",
    "from langchain_core.chat_history import BaseChatMessageHistory\n",
    "from langchain_community.chat_message_histories import ChatMessageHistory\n",
    "import psycopg2\n",
    "from langchain_community.document_loaders import UnstructuredPDFLoader\n",
    "from langchain_community.document_loaders import PDFMinerLoader\n",
    "from langchain_text_splitters import RecursiveCharacterTextSplitter\n",
    "from langchain_community.vectorstores import FAISS\n",
    "from dotenv import load_dotenv\n",
    "from langchain_community.tools.tavily_search import TavilySearchResults\n",
    "from langchain.agents import AgentExecutor, create_openai_tools_agent\n",
    "from langchain_community.chat_message_histories import RedisChatMessageHistory"
   ]
  },
  {
   "cell_type": "code",
   "execution_count": 3,
   "metadata": {},
   "outputs": [],
   "source": [
    "\n",
    "import logging\n",
    "import os\n",
    "import tools_restaurant "
   ]
  },
  {
   "cell_type": "code",
   "execution_count": 4,
   "metadata": {},
   "outputs": [],
   "source": [
    "load_dotenv()\n",
    "DB_CONNECTION = os.getenv(\"DB_CONNECTION\")\n",
    "OPENAI_API_KEY = os.getenv(\"OPENAI_API_KEY\")\n",
    "REDIS_URL=os.getenv(\"REDIS_URL\")\n",
    "chat = ChatOpenAI(model=\"gpt-4o\", temperature=0)\n",
    "tools=tools_restaurant.TOOLS"
   ]
  },
  {
   "cell_type": "code",
   "execution_count": 5,
   "metadata": {},
   "outputs": [],
   "source": [
    "SYSTEM_TEMPLATE = \"\"\"\n",
    "Eres un chatbot de asistencia al cliente para el restaurante ROOFTOP magdalena\n",
    "\n",
    "Tendras 2 funciones principales, una para validar los horarios disponibles dada una fecha y una cantidad de personas, y otra para hacer la reserva\n",
    "de una mesa. \n",
    "\n",
    "1. Obtener los horarios disponibles para hacer reservas dada una fecha y una cantidad de personas\n",
    "2. Hacer una reserva. Cuando el usuario tenga que hacer una reserva vas a seguir los siguientes pasos :\n",
    "    a.  le preguntas la fecha y la cantidad de personas. Tomas la fecha y la conviertes al formato YYYY-MM-DD. Si el usuario no te da el año, asume que es 2024.\n",
    "    b. Validas si esa fecha esta disponible y le muestras los horarios.\n",
    "    c.  Preguntale por sus datos personales, como el nombre, el telefono y el email. \n",
    "        Asegurate que el usuario escriba su nombre y apellido\n",
    "        Valida que el numero telefonico sea correcto, y agrega el sufijo \"+57\" al telefono del usuario si es necesario,\n",
    "        Asegurate que la dirección de correo electronico sea valida\n",
    "    d. Preguntarle si tiene algun comentario con respecto a la reserva para hacercelo saber al restaurante\n",
    "    e. Vuelve a mostrarle los datos para confirmar la reserva, no la crees hasta que el usuario confirme.No le puedes dar el id de la reserva\n",
    "\n",
    "La otra de tus funciones sera responder cualquier duda que tenga el cliente \n",
    "respecto al menu del restaurante. Para ello podras usar el contexto que está abajo.\n",
    "<context>\n",
    "{context}\n",
    "</context>\n",
    "\"\"\""
   ]
  },
  {
   "cell_type": "code",
   "execution_count": 6,
   "metadata": {},
   "outputs": [],
   "source": [
    "def get_session_history(session_id: str) -> RedisChatMessageHistory:\n",
    "    return RedisChatMessageHistory(session_id, url=REDIS_URL)"
   ]
  },
  {
   "cell_type": "code",
   "execution_count": 7,
   "metadata": {},
   "outputs": [],
   "source": [
    "def create_chain_agent():\n",
    "\n",
    "    prompt = ChatPromptTemplate.from_messages(\n",
    "        [\n",
    "            (\n",
    "                \"system\",\n",
    "                SYSTEM_TEMPLATE,\n",
    "            ),\n",
    "            MessagesPlaceholder(variable_name=\"chat_history\"),\n",
    "            (\"human\", \"{input}\"),\n",
    "            MessagesPlaceholder(variable_name=\"agent_scratchpad\"),\n",
    "        ]\n",
    "    )\n",
    "    agent= create_openai_tools_agent(chat,tools,prompt)\n",
    "    agent_executor=AgentExecutor(agent=agent,tools=tools,verbose=True)\n",
    "    #chain=create_stuff_documents_chain(chat,prompt)\n",
    "    return agent_executor"
   ]
  },
  {
   "cell_type": "code",
   "execution_count": 8,
   "metadata": {},
   "outputs": [],
   "source": [
    "def get_chat(chain):\n",
    "    \"\"\" Configura la cadena con historial de mensajes. \"\"\"\n",
    "    return RunnableWithMessageHistory(\n",
    "        chain,\n",
    "        get_session_history,\n",
    "        input_messages_key=\"input\",\n",
    "        history_messages_key=\"chat_history\",\n",
    "    )"
   ]
  },
  {
   "cell_type": "code",
   "execution_count": 9,
   "metadata": {},
   "outputs": [],
   "source": [
    "#Create chain\n",
    "agent_executor = create_chain_agent()\n",
    "\n",
    "#Get the session history\n",
    "conversation_chain=get_chat(agent_executor)"
   ]
  },
  {
   "cell_type": "code",
   "execution_count": 12,
   "metadata": {},
   "outputs": [],
   "source": [
    "message_body=\"Como me llamo ?\"\n",
    "wa_id=\"3227077343\""
   ]
  },
  {
   "cell_type": "code",
   "execution_count": 13,
   "metadata": {},
   "outputs": [
    {
     "name": "stderr",
     "output_type": "stream",
     "text": [
      "Parent run 0087e2e4-e6f4-41cc-b330-b03c781c2265 not found for run 16f57a43-1ed0-48e6-8cbe-6467dd03f299. Treating as a root run.\n"
     ]
    },
    {
     "name": "stdout",
     "output_type": "stream",
     "text": [
      "\n",
      "\n",
      "\u001b[1m> Entering new AgentExecutor chain...\u001b[0m\n",
      "\u001b[32;1m\u001b[1;3mMe dijiste que te llamas Pablo. ¿En qué puedo ayudarte hoy, Pablo?\u001b[0m\n",
      "\n",
      "\u001b[1m> Finished chain.\u001b[0m\n"
     ]
    },
    {
     "data": {
      "text/plain": [
       "{'input': 'Como me llamo ?',\n",
       " 'context': '',\n",
       " 'chat_history': [HumanMessage(content='Hola, me llamo Pablo'),\n",
       "  AIMessage(content='¡Hola, Pablo! ¿En qué puedo ayudarte hoy?')],\n",
       " 'output': 'Me dijiste que te llamas Pablo. ¿En qué puedo ayudarte hoy, Pablo?'}"
      ]
     },
     "execution_count": 13,
     "metadata": {},
     "output_type": "execute_result"
    }
   ],
   "source": [
    "\n",
    "conversation_chain.invoke({\"input\": message_body,\"context\":\"\",\n",
    "                            },\n",
    "                            {\"configurable\":{\"session_id\":wa_id}})"
   ]
  },
  {
   "cell_type": "code",
   "execution_count": null,
   "metadata": {},
   "outputs": [],
   "source": []
  },
  {
   "cell_type": "markdown",
   "metadata": {},
   "source": [
    "    "
   ]
  }
 ],
 "metadata": {
  "kernelspec": {
   "display_name": "Python 3.12.3 ('chatbot')",
   "language": "python",
   "name": "python3"
  },
  "language_info": {
   "codemirror_mode": {
    "name": "ipython",
    "version": 3
   },
   "file_extension": ".py",
   "mimetype": "text/x-python",
   "name": "python",
   "nbconvert_exporter": "python",
   "pygments_lexer": "ipython3",
   "version": "3.12.3"
  },
  "orig_nbformat": 4,
  "vscode": {
   "interpreter": {
    "hash": "8b9d66280c6aa0c9920c23978bcee7765451a6748ab211777099794f360f1c01"
   }
  }
 },
 "nbformat": 4,
 "nbformat_minor": 2
}
