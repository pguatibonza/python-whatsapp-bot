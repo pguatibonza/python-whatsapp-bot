{
 "cells": [
  {
   "cell_type": "code",
   "execution_count": 1,
   "metadata": {},
   "outputs": [],
   "source": [
    "from langchain_openai import ChatOpenAI, OpenAIEmbeddings\n",
    "from langchain_core.prompts import ChatPromptTemplate, MessagesPlaceholder\n",
    "from langchain_core.runnables.history import RunnableWithMessageHistory\n",
    "from langchain_core.chat_history import BaseChatMessageHistory\n",
    "from langchain_community.chat_message_histories import ChatMessageHistory\n",
    "from langchain_community.document_loaders import UnstructuredPDFLoader, PDFMinerLoader\n",
    "from langchain_text_splitters import RecursiveCharacterTextSplitter\n",
    "from langchain_community.vectorstores import SupabaseVectorStore\n",
    "from dotenv import load_dotenv\n",
    "from langchain_community.tools.tavily_search import TavilySearchResults\n",
    "from langchain.agents import AgentExecutor, create_openai_tools_agent\n",
    "from langchain_community.chat_message_histories import RedisChatMessageHistory\n",
    "from langchain_core.runnables import RunnablePassthrough\n",
    "from supabase import create_client\n",
    "import logging\n",
    "import os\n",
    "import psycopg2\n",
    "import tools_restaurant\n",
    "\n",
    "# Configuración inicial\n",
    "load_dotenv()\n",
    "DB_CONNECTION = os.getenv(\"DB_CONNECTION\")\n",
    "OPENAI_API_KEY = os.getenv(\"OPENAI_API_KEY\")\n",
    "REDIS_URL = os.getenv(\"REDIS_URL\")\n",
    "TOOLS=tools_restaurant.TOOLS"
   ]
  },
  {
   "cell_type": "code",
   "execution_count": 2,
   "metadata": {},
   "outputs": [],
   "source": [
    "\n",
    "chat = ChatOpenAI(model=\"gpt-4o\", temperature=0)"
   ]
  },
  {
   "cell_type": "code",
   "execution_count": 3,
   "metadata": {},
   "outputs": [],
   "source": [
    "embeddings = OpenAIEmbeddings()  # Inicializar embeddings"
   ]
  },
  {
   "cell_type": "code",
   "execution_count": 4,
   "metadata": {},
   "outputs": [],
   "source": [
    "SYSTEM_TEMPLATE_2= \"\"\"\n",
    "Eres un asistente virtual del concesionario distoyota, que se encargara de brindar informacion sobre los carros que necesite el usuario.\n",
    "El usuario podrá estar interesado en  : \n",
    "    1. Un vehiculo nuevo\n",
    "    2. Un vehiculo usado\n",
    "    3. Repuestos/accesorios\n",
    "    4. Realizar test drive\n",
    "    5. Agendar mantenimiento\n",
    "Te vas a basar en la siguiente información :\n",
    "<context>\n",
    "{context}\n",
    "</context>\n",
    "\"\"\""
   ]
  },
  {
   "cell_type": "code",
   "execution_count": 5,
   "metadata": {},
   "outputs": [],
   "source": [
    "from langchain_community.vectorstores import FAISS\n",
    "def create_from_directory(file_directory):\n",
    "    embeddings=OpenAIEmbeddings()\n",
    "    data=[]\n",
    "    for file in os.listdir(file_directory):\n",
    "        path=os.path.join(file_directory,file)\n",
    "        loader=PDFMinerLoader(path)\n",
    "        data+=loader.load()\n",
    "\n",
    "        logging.info(f\"Documento cargado desde el archivo {path}\")\n",
    "\n",
    "    text_splitter=RecursiveCharacterTextSplitter(chunk_size=500,chunk_overlap=100)\n",
    "\n",
    "    all_splits=text_splitter.split_documents(data)\n",
    "\n",
    "    logging.info(\"Documentos spliteados\")\n",
    "    return all_splits\n",
    "\n",
    "#Take a directory and create/add vectors to the vector store\n",
    "def add_pdfs_from_directory(file_directory):\n",
    "    embeddings=OpenAIEmbeddings()\n",
    "    try:\n",
    "        vector_store=FAISS.load_local(\"db\",embeddings)\n",
    "        logging.info(\"Vector store cargada\")\n",
    "        all_splits=create_from_directory(file_directory)\n",
    "        vector_store.add_documents(all_splits,embeddings)\n",
    "        logging.info(\"Documentos añadidos\")\n",
    "    except :\n",
    "        all_splits=create_from_directory(file_directory)\n",
    "        logging.info(\"Documentos añadidos y creados\")\n",
    "        vector_store=FAISS.from_documents(all_splits,embeddings)\n",
    "        logging.info(\"Vector store creada\")\n",
    "    vector_store.save_local(\"db\")\n",
    "\n",
    "    logging.info(\"Vector store guardada\")\n",
    "    return vector_store"
   ]
  },
  {
   "cell_type": "code",
   "execution_count": 6,
   "metadata": {},
   "outputs": [],
   "source": [
    "def get_session_history(session_id: str) -> RedisChatMessageHistory:\n",
    "    return RedisChatMessageHistory(session_id, url=REDIS_URL)\n",
    "\n",
    "# Create a Prompt template with a LLM model\n",
    "def create_chain_agent():\n",
    "    prompt = ChatPromptTemplate.from_messages(\n",
    "        [\n",
    "            (\"system\", SYSTEM_TEMPLATE_2),\n",
    "            MessagesPlaceholder(variable_name=\"chat_history\"),\n",
    "            (\"human\", \"{input}\"),\n",
    "            MessagesPlaceholder(variable_name=\"agent_scratchpad\"),\n",
    "        ]\n",
    "    )\n",
    "    agent = create_openai_tools_agent(chat, TOOLS, prompt)\n",
    "    agent_executor = AgentExecutor(agent=agent, tools=TOOLS, verbose=True)\n",
    "    return agent_executor\n",
    "\n",
    "\n",
    "def get_chat(chain):\n",
    "    \"\"\" Configura la cadena con historial de mensajes. \"\"\"\n",
    "    return RunnableWithMessageHistory(\n",
    "        chain,\n",
    "        get_session_history,\n",
    "        input_messages_key=\"input\",\n",
    "        history_messages_key=\"chat_history\",\n",
    "    )"
   ]
  },
  {
   "cell_type": "code",
   "execution_count": 7,
   "metadata": {},
   "outputs": [],
   "source": [
    "# Generates a response based on an input\n",
    "def run_chain(message_body, wa_id, context, conversation_chain):\n",
    "    message = conversation_chain.invoke({\"input\": message_body, \"context\": context}, {\"configurable\": {\"session_id\": wa_id}})\n",
    "    logging.info(f\"Generated message: {message['output']}\")\n",
    "    return message['output']\n",
    "\n",
    "# Delete messages from the message history\n",
    "def trim_messages(messages, conversation_limit=10):\n",
    "    if len(messages) > conversation_limit:\n",
    "        return messages[-conversation_limit:]\n",
    "    return messages"
   ]
  },
  {
   "cell_type": "code",
   "execution_count": 8,
   "metadata": {},
   "outputs": [],
   "source": [
    "agent_executor = create_chain_agent()"
   ]
  },
  {
   "cell_type": "code",
   "execution_count": 9,
   "metadata": {},
   "outputs": [],
   "source": [
    "agent_executor_with_message_trimming = (RunnablePassthrough.assign(chat_history=lambda x: trim_messages(x[\"chat_history\"]))\n",
    " | agent_executor)\n",
    "\n",
    "# Get the session history\n",
    "conversation_chain = get_chat(agent_executor_with_message_trimming)"
   ]
  },
  {
   "cell_type": "code",
   "execution_count": 10,
   "metadata": {},
   "outputs": [],
   "source": [
    "db = add_pdfs_from_directory(\"../../data/\")"
   ]
  },
  {
   "cell_type": "code",
   "execution_count": 11,
   "metadata": {},
   "outputs": [],
   "source": [
    "loader=PDFMinerLoader(\"../../data/Ficha-tecnica-Yaris.pdf\")\n",
    "data=loader.load()\n",
    "text_splitter=RecursiveCharacterTextSplitter(chunk_size=500,chunk_overlap=100)\n",
    "\n",
    "all_splits=text_splitter.split_documents(data)"
   ]
  },
  {
   "cell_type": "code",
   "execution_count": 42,
   "metadata": {},
   "outputs": [],
   "source": [
    "from langchain_community.document_loaders import PDFPlumberLoader\n",
    "loader=PDFPlumberLoader(\"../../data/Ficha-tecnica-Yaris.pdf\")\n",
    "data=loader.load()\n",
    "text_splitter=RecursiveCharacterTextSplitter(chunk_size=500,chunk_overlap=100)\n",
    "all_splits=text_splitter.split_documents(data)\n",
    "db=FAISS.from_documents(all_splits,embedding=OpenAIEmbeddings())"
   ]
  },
  {
   "cell_type": "code",
   "execution_count": 44,
   "metadata": {},
   "outputs": [
    {
     "name": "stdout",
     "output_type": "stream",
     "text": [
      "\n",
      "\n",
      "\u001b[1m> Entering new AgentExecutor chain...\u001b[0m\n",
      "\u001b[32;1m\u001b[1;3mClaro, aquí tienes las características del Toyota Yaris Sport HB:\n",
      "\n",
      "### Seguridad Activa\n",
      "- **Asistentes de Conducción**: VSC (Control de Estabilidad del Vehículo) + TRC (Control de Tracción) + HAC (Asistente de Arranque en Pendientes)\n",
      "- **Sensor de Luces**: Sí, con función \"Sígueme a casa\"\n",
      "- **Cámara de Reversa**: Disponible en algunas versiones\n",
      "- **Desempañador Trasero**: Sí\n",
      "- **Sistema de Pre-Colisión**: Disponible en algunas versiones\n",
      "- **Alerta de Salida de Carril**: Disponible en algunas versiones\n",
      "\n",
      "### Seguridad Pasiva\n",
      "- **Estructura Carrocería**: GOA (Global Outstanding Assessment)\n",
      "- **Cinturones Frontales**: 2 cinturones de 3 puntos con ELR (Retractor de Bloqueo de Emergencia), pretensor, limitador de fuerza y ajuste de altura\n",
      "- **Sistema ISOFIX**: Sí\n",
      "\n",
      "### Exterior\n",
      "- **Spoiler**: Sí, en la puerta trasera y del color de la carrocería\n",
      "- **Manijas Exteriores de las Puertas**: Del color de la carrocería\n",
      "- **Techo Corredizo**: Disponible en algunas versiones\n",
      "\n",
      "### Interior\n",
      "- **Tablero de Instrumentos / Consola Central**: Acabados en color negro con detalles plateados y Piano Black. Algunas versiones incluyen detalles cromados.\n",
      "- **Instrumentos Combinados**: Velocímetro y tacómetro tipo análogo\n",
      "- **Sistema de Encendido del Motor**: Smart Start / Entry (encendido por botón)\n",
      "- **Aire Acondicionado**: Manual o automático, dependiendo de la versión\n",
      "\n",
      "### Sistemas de Seguridad\n",
      "- **Sistema Antibloqueo de Frenos (ABS)**\n",
      "- **Control Electrónico de Estabilidad**\n",
      "- **Alerta de Colisión Frontal**\n",
      "- **Sistema de Sujeción Infantil**\n",
      "- **Bolsas de Aire**: 7 bolsas de aire\n",
      "\n",
      "### Mantenimiento y Financiamiento\n",
      "- **Mantenimiento**: Planeado\n",
      "- **Seguro**: Exclusivo\n",
      "- **Financiación**: Especial\n",
      "\n",
      "### Notas\n",
      "- Las características que aparecen en esta ficha técnica son ilustrativas y no constituyen oferta comercial. Sus especificaciones pueden estar sujetas a cambios dependiendo de su efectiva disponibilidad.\n",
      "- Las características definitivas del vehículo serán las que conozca y acepte el comprador en la correspondiente orden de pedido.\n",
      "- Las condiciones válidas son las que constan en la entrega del vehículo.\n",
      "- Imágenes de referencia.\n",
      "\n",
      "Si necesitas más información o detalles específicos, no dudes en preguntar.\u001b[0m\n",
      "\n",
      "\u001b[1m> Finished chain.\u001b[0m\n"
     ]
    }
   ],
   "source": [
    "input=\"dame todas las caracteristicas del vehiculo\"\n",
    "context=db.similarity_search(input)\n",
    "p=conversation_chain.invoke({\"input\":input,\"context\": context},{\"configurable\":{\"session_id\" : \"1\"}})"
   ]
  },
  {
   "cell_type": "code",
   "execution_count": null,
   "metadata": {},
   "outputs": [],
   "source": []
  }
 ],
 "metadata": {
  "kernelspec": {
   "display_name": "Python 3.12.3 ('chatbot')",
   "language": "python",
   "name": "python3"
  },
  "language_info": {
   "codemirror_mode": {
    "name": "ipython",
    "version": 3
   },
   "file_extension": ".py",
   "mimetype": "text/x-python",
   "name": "python",
   "nbconvert_exporter": "python",
   "pygments_lexer": "ipython3",
   "version": "3.12.3"
  },
  "orig_nbformat": 4,
  "vscode": {
   "interpreter": {
    "hash": "8b9d66280c6aa0c9920c23978bcee7765451a6748ab211777099794f360f1c01"
   }
  }
 },
 "nbformat": 4,
 "nbformat_minor": 2
}
